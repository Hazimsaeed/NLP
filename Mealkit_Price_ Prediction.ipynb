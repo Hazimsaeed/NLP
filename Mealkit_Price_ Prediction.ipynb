 {       
 "cells": [  
  {  
   "cell_type": "code",
   "execution_count": 315,
   "metadata": {},
   "outputs": [
    { 
     "name": "stderr",
     "output_type": "stream",
     "text": [
      "[nltk_data] Downloading package stopwords to\n",
      "[nltk_data]     /Users/hazimsaeed/nltk_data...\n",
      "[nltk_data]   Package stopwords is already up-to-date!\n"
     ]   
    },  
    {   
     "data": {
      "text/plain": [
       "True"
      ]
     },
     "execution_count": 315,
     "metadata": {}, 
     "output_type": "execute_result"
    }
   ],
   "source": [
    "# import the libraries\n",
    "import pandas as pd\n",
    "import numpy as np\n",
    "#Text Processing Imports\n",
    "import string\n",
    "from nltk.corpus import stopwords\n",
    "from sklearn.feature_extraction.text import CountVectorizer, TfidfTransformer\n",
    "from sklearn.decomposition import TruncatedSVD, PCA\n",
    "from sklearn.linear_model import LinearRegression\n",
    "from sklearn import metrics\n",
    "\n",
    "import nltk\n", 
    "nltk.download('stopwords')\n",
    "  "
   ]
  },
  { 
   "cell_type": "code",
   "execution_count": 316,
   "metadata": {},
   "outputs": [],
   "source": [
    "df = pd.read_excel(\"mealkit_items_2.xlsx\")"
   ] 
  },
  {
   "cell_type": "code",
   "execution_count": 317,
   "metadata": {},
   "outputs": [],
   "source": [
    "# Descripvtive Statistics"
   ]
  },
  {
   "cell_type": "code",
   "execution_count": 318,
   "metadata": {},
   "outputs": [
    {
     "data": {
      "text/html": [
       "<div>\n",
       "<style scoped>\n",
       "    .dataframe tbody tr th:only-of-type {\n",
       "        vertical-align: middle;\n",
       "    }\n",
       "\n",
       "    .dataframe tbody tr th {\n",
       "        vertical-align: top;\n",
       "    }\n",
       "\n",
       "    .dataframe thead th {\n",
       "        text-align: right;\n",
       "    }\n",
       "</style>\n",
       "<table border=\"1\" class=\"dataframe\">\n",
       "  <thead>\n",
       "    <tr style=\"text-align: right;\">\n",
       "      <th></th>\n",
       "      <th>merchant_name</th>\n",
       "      <th>item_key</th>\n",
       "      <th>product_title</th>\n",
       "      <th>product_subtitle</th>\n",
       "      <th>product_price</th>\n",
       "    </tr>\n",
       "  </thead>\n",
       "  <tbody>\n",
       "    <tr>\n",
       "      <th>0</th>\n",
       "      <td>PEACHDISH</td>\n",
       "      <td>227272687</td>\n",
       "      <td>ZEN Modern Asian Bistro 2 - Orange Chicken Combo</td>\n",
       "      <td>Chicken, scallions, onions, orange peels, chil...</td>\n",
       "      <td>10.99</td>\n",
       "    </tr>\n",
       "    <tr>\n",
       "      <th>1</th>\n",
       "      <td>PEACHDISH</td>\n",
       "      <td>227273654</td>\n",
       "      <td>Pho O Sha - Tofu Vegetable Pho</td>\n",
       "      <td>Tofu and assorted seasonal vegetables  may inc...</td>\n",
       "      <td>8.99</td>\n",
       "    </tr>\n",
       "    <tr>\n",
       "      <th>2</th>\n",
       "      <td>PEACHDISH</td>\n",
       "      <td>227372050</td>\n",
       "      <td>TIG Restaurant - Chicken Katsu Combo</td>\n",
       "      <td>Fried chicken cutlet served with white rice, s...</td>\n",
       "      <td>8.99</td>\n",
       "    </tr>\n",
       "    <tr>\n",
       "      <th>3</th>\n",
       "      <td>PEACHDISH</td>\n",
       "      <td>227421173</td>\n",
       "      <td>Pick Up Stix Mira Mesa - 2 Chicken Eggrolls</td>\n",
       "      <td>2 delicious crispy egg rolls filled with chick...</td>\n",
       "      <td>3.99</td>\n",
       "    </tr>\n",
       "    <tr>\n",
       "      <th>4</th>\n",
       "      <td>PEACHDISH</td>\n",
       "      <td>230993729</td>\n",
       "      <td>Big Thyme Sandwich Company - Baby Kale Salad W...</td>\n",
       "      <td>Chicken, avocado, cucumber, walnuts, and straw...</td>\n",
       "      <td>10.99</td>\n",
       "    </tr>\n",
       "  </tbody>\n",
       "</table>\n",
       "</div>"
      ],
      "text/plain": [
       "  merchant_name   item_key                                      product_title  \\\n",
       "0     PEACHDISH  227272687   ZEN Modern Asian Bistro 2 - Orange Chicken Combo   \n",
       "1     PEACHDISH  227273654                     Pho O Sha - Tofu Vegetable Pho   \n",
       "2     PEACHDISH  227372050               TIG Restaurant - Chicken Katsu Combo   \n",
       "3     PEACHDISH  227421173        Pick Up Stix Mira Mesa - 2 Chicken Eggrolls   \n",
       "4     PEACHDISH  230993729  Big Thyme Sandwich Company - Baby Kale Salad W...   \n",
       "\n",
       "                                    product_subtitle  product_price  \n",
       "0  Chicken, scallions, onions, orange peels, chil...          10.99  \n",
       "1  Tofu and assorted seasonal vegetables  may inc...           8.99  \n",
       "2  Fried chicken cutlet served with white rice, s...           8.99  \n",
       "3  2 delicious crispy egg rolls filled with chick...           3.99  \n",
       "4  Chicken, avocado, cucumber, walnuts, and straw...          10.99  "
      ]
     },
     "execution_count": 318,
     "metadata": {},
     "output_type": "execute_result"
    }
   ],
   "source": [
    "df.head()"
   ]
  },
  {
   "cell_type": "code",
   "execution_count": 319,
   "metadata": {},
   "outputs": [
    {
     "data": {
      "text/html": [
       "<div>\n",
       "<style scoped>\n",
       "    .dataframe tbody tr th:only-of-type {\n",
       "        vertical-align: middle;\n",
       "    }\n",
       "\n",
       "    .dataframe tbody tr th {\n",
       "        vertical-align: top;\n",
       "    }\n",
       "\n",
       "    .dataframe thead th {\n",
       "        text-align: right;\n",
       "    }\n",
       "</style>\n",
       "<table border=\"1\" class=\"dataframe\">\n",
       "  <thead>\n",
       "    <tr style=\"text-align: right;\">\n",
       "      <th></th>\n",
       "      <th>item_key</th>\n",
       "      <th>product_price</th>\n",
       "    </tr>\n",
       "  </thead>\n",
       "  <tbody>\n",
       "    <tr>\n",
       "      <th>count</th>\n",
       "      <td>1.627000e+03</td>\n",
       "      <td>1079.000000</td>\n",
       "    </tr>\n",
       "    <tr>\n",
       "      <th>mean</th>\n",
       "      <td>7.166577e+08</td>\n",
       "      <td>12.961418</td>\n",
       "    </tr>\n",
       "    <tr>\n",
       "      <th>std</th>\n",
       "      <td>8.048195e+08</td>\n",
       "      <td>9.589569</td>\n",
       "    </tr>\n",
       "    <tr>\n",
       "      <th>min</th>\n",
       "      <td>2.335910e+06</td>\n",
       "      <td>0.500000</td>\n",
       "    </tr>\n",
       "    <tr>\n",
       "      <th>25%</th>\n",
       "      <td>9.727199e+07</td>\n",
       "      <td>9.495000</td>\n",
       "    </tr>\n",
       "    <tr>\n",
       "      <th>50%</th>\n",
       "      <td>1.350837e+08</td>\n",
       "      <td>10.490000</td>\n",
       "    </tr>\n",
       "    <tr>\n",
       "      <th>75%</th>\n",
       "      <td>1.783910e+09</td>\n",
       "      <td>11.490000</td>\n",
       "    </tr>\n",
       "    <tr>\n",
       "      <th>max</th>\n",
       "      <td>2.055253e+09</td>\n",
       "      <td>86.000000</td>\n",
       "    </tr>\n",
       "  </tbody>\n",
       "</table>\n",
       "</div>"
      ],
      "text/plain": [
       "           item_key  product_price\n",
       "count  1.627000e+03    1079.000000\n",
       "mean   7.166577e+08      12.961418\n",
       "std    8.048195e+08       9.589569\n",
       "min    2.335910e+06       0.500000\n",
       "25%    9.727199e+07       9.495000\n",
       "50%    1.350837e+08      10.490000\n",
       "75%    1.783910e+09      11.490000\n",
       "max    2.055253e+09      86.000000"
      ]
     },
     "execution_count": 319,
     "metadata": {},
     "output_type": "execute_result"
    }
   ],
   "source": [
    "df.describe()"
   ]
  },
  {
   "cell_type": "code",
   "execution_count": 320,
   "metadata": {},
   "outputs": [
    {
     "name": "stdout",
     "output_type": "stream",
     "text": [
      "<class 'pandas.core.frame.DataFrame'>\n",
      "RangeIndex: 1627 entries, 0 to 1626\n",
      "Data columns (total 5 columns):\n",
      "merchant_name       1627 non-null object\n",
      "item_key            1627 non-null int64\n",
      "product_title       1627 non-null object\n",
      "product_subtitle    880 non-null object\n",
      "product_price       1079 non-null float64\n",
      "dtypes: float64(1), int64(1), object(3)\n",
      "memory usage: 63.6+ KB\n"
     ]
    }
   ],
   "source": [
    "df.info()"
   ]
  },
  {
   "cell_type": "code",
   "execution_count": 321,
   "metadata": {},
   "outputs": [
    {
     "data": {
      "text/plain": [
       "merchant_name         0\n",
       "item_key              0\n",
       "product_title         0\n",
       "product_subtitle    747\n",
       "product_price       548\n",
       "dtype: int64"
      ]
     },
     "execution_count": 321,
     "metadata": {},
     "output_type": "execute_result"
    }
   ],
   "source": [
    "df.isnull().sum()"
   ]
  },
  {
   "cell_type": "code",
   "execution_count": 322,
   "metadata": {},
   "outputs": [
    {
     "data": {
      "text/plain": [
       "merchant_name         0\n",
       "item_key              0\n",
       "product_title         0\n",
       "product_subtitle    747\n",
       "product_price       548\n",
       "dtype: int64"
      ]
     },
     "execution_count": 322,
     "metadata": {},
     "output_type": "execute_result"
    }
   ],
   "source": [
    "df.isnull().sum()"
   ]
  },
  {
   "cell_type": "code",
   "execution_count": 323,
   "metadata": {},
   "outputs": [
    {
     "data": {
      "text/plain": [
       "(1627, 5)"
      ]
     },
     "execution_count": 323,
     "metadata": {},
     "output_type": "execute_result"
    }
   ],
   "source": [
    "df.shape"
   ]
  },
  {
   "cell_type": "code",
   "execution_count": 324,
   "metadata": {},
   "outputs": [
    {
     "data": {
      "text/plain": [
       "1079"
      ]
     },
     "execution_count": 324,
     "metadata": {},
     "output_type": "execute_result"
    }
   ],
   "source": [
    "df.product_price.count()"
   ]
  },
  {
   "cell_type": "code",
   "execution_count": 325,
   "metadata": {},
   "outputs": [],
   "source": [
    "# function for text processing\n",
    "def process_text(text):\n",
    "    no_punctuation = [character for character in text if character not in string.punctuation]\n",
    "    no_punctuation = ''.join(no_punctuation)\n",
    "    return [word for word in no_punctuation.split() if word.lower() not in stopwords.words('english')]"
   ]
  },
  {
   "cell_type": "markdown",
   "metadata": {},
   "source": [
    "\n",
    "we can build three model one using product_title and one using\tproduct_subtitle and one using both product_title and product_subtitle"
   ]
  },
  {
   "cell_type": "code",
   "execution_count": 326,
   "metadata": {},
   "outputs": [],
   "source": [
    "# split train and test\n",
    "train = df[df.product_price.isnull()==True]\n",
    "test = df[df.product_price.isnull()==False]"
   ]
  },
  {
   "cell_type": "code",
   "execution_count": 327,
   "metadata": {},
   "outputs": [
    {
     "data": {
      "text/plain": [
       "(548, 5)"
      ]
     },
     "execution_count": 327,
     "metadata": {},
     "output_type": "execute_result"
    }
   ],
   "source": [
    "train.shape"
   ]
  },
  {
   "cell_type": "code",
   "execution_count": 328,
   "metadata": {},
   "outputs": [
    {
     "data": {
      "text/plain": [
       "(1079, 5)"
      ]
     },
     "execution_count": 328,
     "metadata": {},
     "output_type": "execute_result"
    }
   ],
   "source": [
    "test.shape"
   ]
  },
  {
   "cell_type": "code",
   "execution_count": 329,
   "metadata": {},
   "outputs": [],
   "source": [
    "# model using product title\n",
    "bow_transformer = CountVectorizer(analyzer=process_text).fit(df.product_title)\n",
    "descriptions_bow_product_title = bow_transformer.transform(df.product_title)\n"
   ]
  },
  {
   "cell_type": "code",
   "execution_count": 330,
   "metadata": {},
   "outputs": [
    {
     "data": {
      "text/plain": [
       "(1627, 1732)"
      ]
     },
     "execution_count": 330,
     "metadata": {},
     "output_type": "execute_result"
    }
   ],
   "source": [
    "descriptions_bow_product_title.shape\n"
   ]
  },
  {
   "cell_type": "code",
   "execution_count": 331,
   "metadata": {},
   "outputs": [],
   "source": [
    "tfidf_transformer = TfidfTransformer().fit(descriptions_bow_product_title)\n"
   ]
  },
  {
   "cell_type": "code",
   "execution_count": 332,
   "metadata": {},
   "outputs": [],
   "source": [
    "product_title_tfidf = tfidf_transformer.transform(descriptions_bow_product_title)\n"
   ]
  },
  {
   "cell_type": "code",
   "execution_count": 333,
   "metadata": {},
   "outputs": [
    {
     "name": "stdout",
     "output_type": "stream",
     "text": [
      "  (0, 1708)\t0.4152483653703807\n",
      "  (0, 1026)\t0.4081893773064363\n",
      "  (0, 951)\t0.3856462691284971\n",
      "  (0, 372)\t0.28814432411196883\n",
      "  (0, 315)\t0.14882502664327005\n",
      "  (0, 159)\t0.34417162033838783\n",
      "  (0, 77)\t0.39061138616128743\n",
      "  (0, 4)\t0.3688085995474811\n"
     ]
    }
   ],
   "source": [
    "print(product_title_tfidf[0])\n"
   ]
  },
  {
   "cell_type": "code",
   "execution_count": 334,
   "metadata": {},
   "outputs": [],
   "source": [
    "train_indices = df.loc[df.product_price.isnull()==False].index\n"
   ]
  },
  {
   "cell_type": "code",
   "execution_count": 335,
   "metadata": {},
   "outputs": [
    {
     "data": {
      "text/plain": [
       "<1627x1732 sparse matrix of type '<class 'numpy.float64'>'\n",
       "\twith 10252 stored elements in Compressed Sparse Row format>"
      ]
     },
     "execution_count": 335,
     "metadata": {},
     "output_type": "execute_result"
    }
   ],
   "source": [
    "product_title_tfidf"
   ]
  },
  {
   "cell_type": "code",
   "execution_count": 336,
   "metadata": {},
   "outputs": [],
   "source": [
    "y = df.loc[train_indices, 'product_price']"
   ]
  },
  {
   "cell_type": "code",
   "execution_count": 337,
   "metadata": {},
   "outputs": [],
   "source": [
    "X = product_title_tfidf[list(train_indices)]\n"
   ]
  },
  {
   "cell_type": "code",
   "execution_count": 338,
   "metadata": {},
   "outputs": [
    {
     "data": {
      "text/plain": [
       "LinearRegression(copy_X=True, fit_intercept=True, n_jobs=None,\n",
       "         normalize=False)"
      ]
     },
     "execution_count": 338,
     "metadata": {},
     "output_type": "execute_result"
    }
   ],
   "source": [
    "lm = LinearRegression()\n",
    "lm.fit(X,y)"
   ]
  },
  {
   "cell_type": "code",
   "execution_count": 339,
   "metadata": {},
   "outputs": [],
   "source": [
    "predictions = lm.predict(X)\n"
   ]
  },
  {
   "cell_type": "code",
   "execution_count": 340,
   "metadata": {},
   "outputs": [
    {
     "data": {
      "text/plain": [
       "0.39560695581157557"
      ]
     },
     "execution_count": 340,
     "metadata": {},
     "output_type": "execute_result"
    }
   ],
   "source": [
    "np.sqrt(metrics.mean_squared_error(y, predictions))\n"
   ]
  },
  {
   "cell_type": "code",
   "execution_count": 349,
   "metadata": {},
   "outputs": [
    {
     "data": {
      "text/plain": [
       "array([ 27.50229902,  48.21184051,   0.73324537,  45.41974254,\n",
       "        25.02692368,  20.40705051,  12.36594507,  43.70959485,\n",
       "        40.77957074,  10.09124631,  24.29306051,  18.11186702,\n",
       "        23.72316038,  12.71126794,  20.32039028,   6.92620286,\n",
       "        29.48304953,  24.24213242,  25.14784602,  24.83302419,\n",
       "        17.69146082,  40.74013072,   4.54753731,  21.69340881,\n",
       "        33.56981618,  21.39078633,  51.2757974 ,   4.79575832,\n",
       "        24.74717808,  15.21263164,  16.81758852,  12.0229866 ,\n",
       "         0.60615964,  21.81772537,  26.42707882,  30.08106111,\n",
       "        12.61492871,  17.89588747,   9.55396498,  28.83720379,\n",
       "        16.69747567,   6.17317791,  26.29768219,  27.98639823,\n",
       "        12.77548507,   2.88664771,  22.66848641,  28.80556813,\n",
       "        13.67768213,  18.28448025,  17.59185776,  29.80265073,\n",
       "         5.59314798,  13.75138986,  13.92892778,   7.51322916,\n",
       "        22.87344616,  25.00000048,  46.16099291,  19.46900046,\n",
       "        13.11306818,  18.25484331,  17.00466134,  23.97014323,\n",
       "        31.96893904,  39.24916511,  36.29619668,  13.22927978,\n",
       "        24.28983541,  29.69789064,  10.50870514,  18.74510499,\n",
       "        20.47203853,  27.22833878,  30.95891611,  38.16141823,\n",
       "        51.37235786,  23.57064786,  25.84393267,   7.62494808,\n",
       "         2.69606387,  15.6402766 ,  20.18825195,  26.46259629,\n",
       "        26.4091432 ,  11.44257093,  17.65287063,  15.32932139,\n",
       "        28.18446184,  28.13652619,  27.3262119 ,  34.94030484,\n",
       "        21.18113276,  27.30045552,  44.61294082,  10.22626482,\n",
       "        79.0697231 ,  11.45545201,  22.04682619,  20.01699192,\n",
       "         7.46639565,  -4.92230827,  13.67955823,  16.35280386,\n",
       "        20.74257213,  27.04647465,  11.38945676,  23.96074319,\n",
       "         7.33325717,  19.68766839,  14.16894506,  15.50800959,\n",
       "        56.97250146,   8.86765967,  24.28498786,  12.82017651,\n",
       "        -0.53021808,  10.04498096,  17.35859422,  28.2587533 ,\n",
       "        13.23268374,  21.93878355,  23.98409239,  22.49069777,\n",
       "        16.21800654,  18.24694776,  29.83556689,  59.55170834,\n",
       "        27.05397637,  13.03898821,  20.26377996,  28.80886072,\n",
       "        20.19141428,  16.19573726,  29.2065244 ,  28.10585433,\n",
       "        37.6675502 ,  64.66231904,  29.55290431,  36.3446782 ,\n",
       "        11.41338551,  24.16633961,  19.79492696,  -0.96707956,\n",
       "        -0.47136537,  27.35144169,  27.16706643,  17.2520534 ,\n",
       "        31.7647327 ,  13.70961419,   4.66632503,  18.68220967,\n",
       "        10.41648812,  49.65758532,  32.72798462,  20.20803568,\n",
       "        34.17746795,  39.83315617,  12.67018945,  27.87979854,\n",
       "        17.22455228,  17.6426617 ,  14.98376436,  33.97573505,\n",
       "        12.64516667,  20.26377996,  21.61105431,  28.9104415 ,\n",
       "        22.48070281,  40.23219622,  35.47370063,  17.74570528,\n",
       "         5.38832509,  24.01793409,  30.90935631,  12.89831748,\n",
       "        19.15549681,  -2.22143067,  11.01059398,  24.99518558,\n",
       "         9.23587938,   9.70286936,  60.72529053,  34.60819119,\n",
       "        -4.06218662,  33.89445084,   6.56064606,  31.54978456,\n",
       "        -6.61026107,  15.81572673,  -0.53021808,  31.05008008,\n",
       "        11.43786262,  24.42420945,  19.804969  ,  19.05240214,\n",
       "        23.33962926,  11.53589008,  -4.26430304,  41.32147279,\n",
       "        32.25608175,  36.27316391,  35.78676144,  12.18901027,\n",
       "        17.07179039,  14.40286204,  64.88429693,   8.70321988,\n",
       "        24.72558507,  14.33635998,  35.77679347,   6.83494788,\n",
       "        17.52190519,   8.34860121,  18.72301256,  12.96141798,\n",
       "        13.6857673 ,  28.80701555,  14.97426954,  11.61935047,\n",
       "        16.93559684,  41.67760689,  10.5253597 ,   7.43331826,\n",
       "        10.83826916,   9.37117657,  54.97893852,  46.30625252,\n",
       "        15.96873591,  27.73003905,  25.10834838,  11.98535662,\n",
       "        20.25657349,  32.35585625,   1.2720696 ,  29.07722369,\n",
       "        16.4117129 ,  28.02322418,  13.46346561,  16.03004693,\n",
       "        15.43377337,  10.2426443 , -18.50460888,  29.46841785,\n",
       "        11.76960516,  13.90468926,  33.26938735,  20.63879236,\n",
       "        12.96141798,   9.53562456,  10.43452252,  25.00000016,\n",
       "        22.09506777,  23.21453355,  11.36366173,  15.42672384,\n",
       "        24.33822944,  11.44257093,  13.89581711,  14.58388118,\n",
       "        28.07761735,  34.68138586,  30.39840655,  11.33095223,\n",
       "        24.90845588,  15.92415043,   7.46391065,  23.04526598,\n",
       "        17.22637876,   6.17502734,  13.78398542,  12.74265143,\n",
       "        13.16723064,  32.38666758,  37.016164  ,  12.37726493,\n",
       "        34.67577097,  31.98542427,  14.24594168,  13.11882853,\n",
       "        43.12352875,   5.35913066,  12.80425573,  31.98542427,\n",
       "        12.96141798,  13.75664773,  17.16325403,  24.14672115,\n",
       "        31.67263418,  30.65446834,   7.81062538,  35.87353828,\n",
       "        35.01458098,  34.02876912,  11.86704057,   9.55973132,\n",
       "        32.66380517,  21.69730857,  35.91494064,  24.36267778,\n",
       "        13.31046455,  24.28498786,  32.00391916,   7.48805735,\n",
       "        13.19508228,  21.86314498,  18.26999558,  57.59725947,\n",
       "        31.98881732,  11.00929897,  15.47297544,  -0.1017321 ,\n",
       "        22.93736907,  33.91105301,  18.50194604,  16.799953  ,\n",
       "        32.52483265,  43.57700742,   7.34342747,  20.42731978,\n",
       "         2.92580791,   1.33355207,  23.44880933,  17.51347363,\n",
       "        36.89018382,  22.50366527,  19.73653199,  15.00155232,\n",
       "        31.62509283,  -7.98282202,  27.37350068,  20.77703766,\n",
       "        16.21806484,  16.47948669,  43.58157165,  44.72735671,\n",
       "        20.74257213,  29.70665724,  24.40297421,  13.3820748 ,\n",
       "        20.0096616 ,   3.86213472,   7.01561162,  43.07304625,\n",
       "         3.23796783,  34.90199648,  23.39624725,  26.58334466,\n",
       "        33.94168626,  21.72402755,  23.26738902,  36.69578954,\n",
       "         7.44228902,  28.39757362,  36.22750134,   8.86162028,\n",
       "        22.26097606,  18.64343419,  16.26068654,  16.97078027,\n",
       "        23.90010421,  27.71341744,  26.32189761,  21.60752307,\n",
       "        27.40381869,  25.82406648,   9.74153664,  18.46064994,\n",
       "        11.15979254,  21.25259905,  23.6189043 ,   8.30351598,\n",
       "        23.47561993,  11.19177816,  26.85319163,  33.82231138,\n",
       "        18.00387847,  60.92185905,  37.40223933,  32.4482094 ,\n",
       "        12.45480038,  40.14170671,  24.99999933,  24.73228641,\n",
       "        37.97929111,  22.46753242,  28.45776662,  25.33677619,\n",
       "        15.72957596,  28.10478825,  26.68567219,  18.2250616 ,\n",
       "        17.58039763,  38.33059217,  13.8461211 ,  23.55468096,\n",
       "        31.28203017,  19.57907022,  19.08998087,  12.50877634,\n",
       "        39.55356669,  55.92948897,  16.95202981,  -5.01862921,\n",
       "        10.49193531,  32.60095169,   6.02234845,  14.18289873,\n",
       "        25.2142722 ,  18.23273107,  15.85817749,  13.8921391 ,\n",
       "        15.96283171,   7.79146427,  17.76326704,  10.33236101,\n",
       "        12.01097346,  16.39376994,  19.11380411,  10.96230458,\n",
       "        22.81760994,   5.76099114,  10.79534685,  27.4720634 ,\n",
       "        15.18279625,   8.62446295,  12.34036949,  39.80203985,\n",
       "         9.46593583,  12.96141798,   4.11529354,   7.20495503,\n",
       "        21.65679014,  14.43724125,  12.41291634,  24.35702781,\n",
       "        35.07460967,  41.9126492 ,  24.39868828,  48.13109637,\n",
       "        22.58038793,  16.10629876,  30.33782821,  33.31235408,\n",
       "        28.28172763,  29.20565132,  24.92407003,   9.39877572,\n",
       "        11.53520144,  17.23754618,  30.52968135,  43.27423773,\n",
       "        16.17056199,  29.72716629,  33.40217268,   4.12884807,\n",
       "        28.74231121,  21.34002885,  17.90954799,  44.17010088,\n",
       "        18.70000166,  11.98117358,  32.43867527,   5.99108072,\n",
       "        26.75858938,  -2.47991526,  19.22623186,  26.48749242,\n",
       "        26.01776075,  12.72228986,  13.42651072,   8.15331221,\n",
       "        26.64635449,  -0.55588172,  18.08897141,  12.5414116 ,\n",
       "        21.54973637,  18.60304833,  20.53666963,  16.2230453 ,\n",
       "         9.90325668,  23.33819948,  42.53174905,  46.39894689,\n",
       "        34.05561121,   7.07861083,  19.75865489,  24.43157718,\n",
       "        34.35083906,  37.1136236 ,  20.6149867 ,  16.85661464,\n",
       "        14.13843731,  24.23917979,  23.0227214 ,  13.53186749,\n",
       "        12.31093363,  30.59631036,  27.46741017,  31.10846871,\n",
       "         6.96060873,  31.53346966,  -3.71739731,  12.57730674,\n",
       "        23.91991895,  15.23015278,  13.66589781,  32.27194581,\n",
       "        13.71183134,  42.89648098,  25.77276639,  25.76335584,\n",
       "        11.06970905,  25.74310408,  27.96877622,  22.26455685,\n",
       "        17.25557067,  15.99512198,  28.59510162,  23.31149482,\n",
       "        13.20581076,   9.80946083,   8.78336946, -26.14343022,\n",
       "        19.98870247,  20.74972735,  25.35315358,   8.86765967,\n",
       "        37.93590183,  17.80309282,  26.06465519,  24.21193904,\n",
       "        35.86967966,  56.86272533,  12.65264826,  32.59124461,\n",
       "        20.97271   ,  19.13753713,  -4.75940586,  31.45333753,\n",
       "        12.83013921,   3.27770862,  12.18596573,   8.94585583,\n",
       "        31.01522244,  43.91931537,  22.50692597,  30.18349734])"
      ]
     },
     "execution_count": 349,
     "metadata": {},
     "output_type": "execute_result"
    }
   ],
   "source": [
    "# predict unknow prices\n",
    "pred_indices = df.loc[df.product_price.isnull()==True].index\n",
    "\n",
    "X_predict = product_title_tfidf[list(pred_indices)]\n",
    "predictions_title = lm.predict(X_predict)\n",
    "predictions_title"
   ]
  },
  {
   "cell_type": "markdown",
   "metadata": {},
   "source": [
    "# Using only product title we get 39.56% accuracy"
   ]
  },
  {
   "cell_type": "code",
   "execution_count": null,
   "metadata": {},
   "outputs": [],
   "source": []
  },
  {
   "cell_type": "code",
   "execution_count": 350,
   "metadata": {},
   "outputs": [],
   "source": [
    "# remove where subtitle is missing\n",
    "df = df[df.product_subtitle.isnull()==False]\n",
    "df.shape\n",
    "df.reset_index(inplace=True)"
   ]
  },
  {
   "cell_type": "code",
   "execution_count": 351,
   "metadata": {},
   "outputs": [],
   "source": [
    "# index\n",
    "train_indices = df.loc[df.product_price.isnull()==False].index\n"
   ]
  },
  {
   "cell_type": "code",
   "execution_count": 352,
   "metadata": {},
   "outputs": [],
   "source": [
    "# model using product sub title\n",
    "bow_transformer = CountVectorizer(analyzer=process_text).fit(df.product_subtitle)\n",
    "descriptions_bow_product_sub_title = bow_transformer.transform(df.product_subtitle)\n"
   ]
  },
  {
   "cell_type": "code",
   "execution_count": 353,
   "metadata": {},
   "outputs": [
    {
     "data": {
      "text/plain": [
       "(880, 1745)"
      ]
     },
     "execution_count": 353,
     "metadata": {},
     "output_type": "execute_result"
    }
   ],
   "source": [
    "descriptions_bow_product_sub_title.shape\n"
   ]
  },
  {
   "cell_type": "code",
   "execution_count": 354,
   "metadata": {},
   "outputs": [],
   "source": [
    "tfidf_transformer_sub_title = TfidfTransformer().fit(descriptions_bow_product_sub_title)\n"
   ]
  },
  {
   "cell_type": "code",
   "execution_count": 355,
   "metadata": {},
   "outputs": [],
   "source": [
    "product_sub_title_tfidf = tfidf_transformer_sub_title.transform(descriptions_bow_product_sub_title)\n"
   ]
  },
  {
   "cell_type": "code",
   "execution_count": 356,
   "metadata": {},
   "outputs": [
    {
     "data": {
      "text/plain": [
       "(880, 1745)"
      ]
     },
     "execution_count": 356,
     "metadata": {},
     "output_type": "execute_result"
    }
   ],
   "source": [
    "product_sub_title_tfidf.shape"
   ]
  },
  {
   "cell_type": "code",
   "execution_count": 357,
   "metadata": {},
   "outputs": [
    {
     "name": "stdout",
     "output_type": "stream",
     "text": [
      "  (0, 1742)\t0.255209618628\n",
      "  (0, 1740)\t0.29911244475680576\n",
      "  (0, 1720)\t0.2862355286488866\n",
      "  (0, 1598)\t0.14126928040956868\n",
      "  (0, 1566)\t0.18316968648105605\n",
      "  (0, 1457)\t0.19315779858622678\n",
      "  (0, 1448)\t0.29911244475680576\n",
      "  (0, 1447)\t0.08299264831597396\n",
      "  (0, 1404)\t0.08698512506530279\n",
      "  (0, 1356)\t0.1562424088817743\n",
      "  (0, 1307)\t0.16075452061266832\n",
      "  (0, 1299)\t0.29911244475680576\n",
      "  (0, 1248)\t0.48191066913481784\n",
      "  (0, 1247)\t0.1267762708416356\n",
      "  (0, 1025)\t0.2241837086071134\n",
      "  (0, 891)\t0.1891466753352635\n",
      "  (0, 753)\t0.1799325466617642\n",
      "  (0, 100)\t0.15443971184153735\n",
      "  (0, 6)\t0.19604660258897524\n"
     ]
    }
   ],
   "source": [
    "print(product_sub_title_tfidf[0])\n"
   ]
  },
  {
   "cell_type": "code",
   "execution_count": 358,
   "metadata": {},
   "outputs": [],
   "source": [
    "train_indices = df.loc[df.product_price.isnull()==False].index\n"
   ]
  },
  {
   "cell_type": "code",
   "execution_count": 359,
   "metadata": {},
   "outputs": [
    {
     "data": {
      "text/plain": [
       "<880x1745 sparse matrix of type '<class 'numpy.float64'>'\n",
       "\twith 14347 stored elements in Compressed Sparse Row format>"
      ]
     },
     "execution_count": 359,
     "metadata": {},
     "output_type": "execute_result"
    }
   ],
   "source": [
    "product_sub_title_tfidf"
   ]
  },
  {
   "cell_type": "code",
   "execution_count": 360,
   "metadata": {},
   "outputs": [],
   "source": [
    "y = df.loc[train_indices, 'product_price']"
   ]
  },
  {
   "cell_type": "code",
   "execution_count": 361,
   "metadata": {},
   "outputs": [],
   "source": [
    "X = product_sub_title_tfidf[list(train_indices)]\n"
   ]
  },
  {
   "cell_type": "code",
   "execution_count": 362,
   "metadata": {},
   "outputs": [
    {
     "data": {
      "text/plain": [
       "LinearRegression(copy_X=True, fit_intercept=True, n_jobs=None,\n",
       "         normalize=False)"
      ]
     },
     "execution_count": 362,
     "metadata": {},
     "output_type": "execute_result"
    }
   ],
   "source": [
    "lm = LinearRegression()\n",
    "lm.fit(X,y)"
   ]
  },
  {
   "cell_type": "code",
   "execution_count": 363,
   "metadata": {},
   "outputs": [],
   "source": [
    "predictions = lm.predict(X)\n"
   ]
  },
  {
   "cell_type": "code",
   "execution_count": 364,
   "metadata": {},
   "outputs": [
    {
     "data": {
      "text/plain": [
       "0.22515093366032585"
      ]
     },
     "execution_count": 364,
     "metadata": {},
     "output_type": "execute_result"
    }
   ],
   "source": [
    "np.sqrt(metrics.mean_squared_error(y, predictions))\n"
   ]
  },
  {
   "cell_type": "code",
   "execution_count": 367,
   "metadata": {},
   "outputs": [
    {
     "data": {
      "text/plain": [
       "array([10.4900001 ,  8.9900001 ,  8.98999992,  3.98999991, 10.99000028,\n",
       "       11.48999969,  7.00000016, 10.98999993,  8.74500015,  7.98999992,\n",
       "       10.74000017,  7.99000014,  3.99000024,  9.98999988,  7.98999993,\n",
       "        7.99000014,  7.99000019,  7.98999997,  7.98999996,  7.99000012,\n",
       "        9.99000016,  9.49000013,  3.50000039, 10.99000003, 10.48999949,\n",
       "        9.98999989,  2.9899999 ,  9.99000041, 10.73999997,  9.9900001 ,\n",
       "       10.98999978,  7.98999977,  9.99000006,  9.98999984,  8.99000016,\n",
       "        9.99000001,  7.99000007,  3.5       ,  7.98999997, 11.74999993,\n",
       "       10.73999997,  9.99000004,  9.77050136,  9.49000004, 11.24000012,\n",
       "        9.98999899,  7.99000019, 10.75000022,  9.98999996,  9.98999976,\n",
       "        9.99000024, 10.98999985,  3.99999992, 10.9899996 ,  9.98999992,\n",
       "       10.48999997,  9.98999987,  9.99000006,  9.98999987, 11.74999984,\n",
       "       11.48999976, 12.25000005,  9.99000012,  3.98999991,  3.99000004,\n",
       "       10.99000006, 11.99000041,  9.24000029, 10.98999955, 10.99000018,\n",
       "       11.24000038,  2.99999994,  9.99000034, 10.74999989,  8.98999992,\n",
       "       11.49999946, 11.49000028,  9.98999969, 10.9899999 , 11.99000001,\n",
       "        9.98999995, 10.74000003, 10.49000015, 10.99000018,  3.99000007,\n",
       "       11.99000115, 10.74000019,  9.98999977, 11.98999997, 11.24000001,\n",
       "        3.99000004,  3.99000019, 10.98999994,  9.2399999 ,  4.24999989,\n",
       "       10.23999994,  9.99000006,  9.98999992,  9.9899999 , 11.50000053,\n",
       "       11.24000014,  9.98999985, 11.75000019, 11.99000047,  9.16      ,\n",
       "        9.99000017, 10.99000026, 10.98999968,  8.99000014,  9.98999995,\n",
       "       10.48999997, 11.49000001, 11.98999982,  9.99000014,  9.9899998 ,\n",
       "       10.48999974,  9.99000006, 11.49000132, 10.99000009,  9.99000009,\n",
       "        9.98999965, 11.93406105, 10.4900001 ,  9.98999997, 10.61499988,\n",
       "       10.98999996, 11.23999993, 10.9900002 , 10.9899997 ,  9.98999993,\n",
       "       11.23999953, 10.74999974, 10.48999997, 10.23999997,  9.98999984,\n",
       "        9.99000007, 10.49000003,  9.16000149, 11.99000008,  4.50000028,\n",
       "       11.99000031,  3.99999988, 10.98999883,  9.99000003,  3.4899995 ,\n",
       "       11.98999979, 10.24000012, 11.49000002, 11.4900007 , 10.75000012,\n",
       "        4.50000012, 10.98999993, 11.24000015,  9.99000003,  9.11500016,\n",
       "       10.4899999 ,  8.24000079, 11.23999993, 11.24000006,  9.99000043,\n",
       "        9.99      ,  4.50000001, 10.99000008, 10.98999985,  3.50000008,\n",
       "        9.99000011,  8.98999989,  8.99000007,  9.98999976, 10.98999988,\n",
       "        3.98999998, 10.99000009,  9.98999991, 10.98999993, 11.94999869,\n",
       "        7.98999992, 10.98999991,  3.98999992, 11.98999993, 11.99      ,\n",
       "       11.24000101,  9.98999915, 10.48999981, 11.48999982,  8.24000007,\n",
       "       11.98999988, 11.99000001, 11.98999962, 10.9899997 ,  9.98999969,\n",
       "        7.99000007,  3.99000001, 10.98999995, 11.98999971, 11.99000001,\n",
       "       11.49000002,  3.99000001,  7.99000019,  9.98999997, 10.78999993,\n",
       "        9.99000015, 10.61499988,  9.99000015,  9.99000015,  9.99000016,\n",
       "        9.98999986,  7.9899981 ,  7.98999959,  9.99000046,  7.98999933,\n",
       "        9.99000024,  9.99000007,  7.98999998,  9.48999714,  9.16000149,\n",
       "        7.99000035,  7.99000011,  9.49000004,  9.99000136,  8.99000001,\n",
       "        8.98999978,  9.12000013,  8.99000008, 10.75000028,  8.98999998,\n",
       "        3.75      ,  9.98999978,  8.74500015, 10.99000012, 11.82999993,\n",
       "        3.50000017, 10.98999935,  8.99000011,  9.99000027,  4.50000004,\n",
       "        4.50000015, 10.49000019, 10.99000009,  9.99000001,  5.99999999,\n",
       "        9.99000017, 10.99000025, 10.49000023, 11.48999973, 11.4900001 ,\n",
       "       10.48999989, 10.49000044,  9.99000018, 10.49000009,  7.99000007,\n",
       "       10.99000004,  9.99000004, 10.99000004, 10.73999982,  9.98999998,\n",
       "       10.49000035, 10.48999985,  9.98999995, 10.49000006,  3.99000001,\n",
       "       10.99000053,  9.98999983,  9.98999976, 10.99000007, 10.2500002 ,\n",
       "        9.99      , 10.99000003,  3.99000003,  4.99000013,  9.98999994,\n",
       "       10.98999981,  9.98999989, 10.7899998 ,  9.98999994,  9.49000036,\n",
       "       10.9899996 ,  9.99000015,  8.99000016,  9.99000014,  8.99000017,\n",
       "        7.9899998 ,  7.98999987,  9.98999998,  9.98999985,  7.98999975,\n",
       "       10.98999994,  2.99000009,  7.99000014,  8.98999991,  7.98999994,\n",
       "        2.99999995,  3.99999985,  8.75000017,  7.98999986,  9.98999998,\n",
       "        9.98999978,  4.99000007,  9.99000013,  9.98999991,  9.99000006,\n",
       "       10.23999982,  8.98999991,  9.98999933,  7.98999943,  9.11500016,\n",
       "        9.49000009,  7.99      ,  9.9899998 ,  7.98999985,  9.99000003,\n",
       "       10.74999989, 10.74000003,  8.4900001 , 10.99000015, 10.98999985,\n",
       "        3.99000019,  4.00000002,  5.00000026,  7.98999975,  7.99000009,\n",
       "        9.99000015,  2.99000008,  7.98999993,  7.99000018,  9.98999883,\n",
       "        7.98999921,  3.00000001, 10.75      , 10.98999989,  9.98999991,\n",
       "       10.65666657,  9.99000029,  4.49999992,  7.99000062,  3.99000004,\n",
       "        4.99999991,  9.99000054, 10.99000012,  7.98999998,  7.98999995,\n",
       "        4.98999995,  7.99000001, 10.74000019,  7.99000014,  7.98999983,\n",
       "        9.98999999,  7.99000001,  5.00000016,  9.98999968, 10.98999991,\n",
       "        9.9899992 ,  9.98999883,  7.98999995,  7.98999991, 10.74999999,\n",
       "        9.99      ,  4.2499997 , 10.48999994,  9.98999973,  9.98999999,\n",
       "       10.98999997,  9.99000093, 10.75000017,  9.49000004,  9.49000004,\n",
       "        9.98999978,  2.99000003,  3.99000016,  9.99      ,  8.99000017,\n",
       "        9.98999982, 10.99000032,  3.99999983,  9.50000055,  9.98999995,\n",
       "        9.99000043, 10.73999982,  9.99000031,  3.98999949, 10.48999981,\n",
       "        9.49000009, 10.49000008,  9.99000003,  9.98999989,  9.98999982,\n",
       "        7.9899999 ,  7.99000024,  7.99000023,  3.99999988,  9.99000012,\n",
       "        9.98999977,  8.99000006,  6.99000001,  9.99000058, 10.50000008,\n",
       "       10.49000007,  8.4900001 ,  9.9899999 ,  7.99000005,  7.98999996,\n",
       "        9.98999995,  9.99000035,  9.98999975, 10.4900002 , 10.74999976,\n",
       "        4.99999979, 11.23999996, 10.98999989, 10.48999911, 10.98999974,\n",
       "        9.98999998, 10.49000024, 10.48999991,  9.99000016,  3.98999998,\n",
       "        9.50000028,  9.98999997,  9.98999966,  9.98999994, 10.48999983,\n",
       "        9.99000005,  8.9899998 , 10.74999971,  9.99000017,  3.99000021,\n",
       "       10.75      , 11.74999991, 11.99000017,  3.98999996,  9.98999984,\n",
       "       10.24000353, 11.98999993, 11.99000008,  9.99000013,  8.98999989,\n",
       "       11.24000025, 10.98999995, 10.23999644, 11.23999989, 11.23999973,\n",
       "        3.99000021, 11.99000018, 10.99000018, 11.99000006, 10.5000002 ,\n",
       "        9.99000005, 10.98999999, 11.99000008,  8.9899998 , 11.98999982,\n",
       "       11.99000017,  3.99000014, 10.99000001, 11.98999993, 11.49999983,\n",
       "        9.98999951,  9.74999992,  8.98999994,  9.49000004, 10.24000019,\n",
       "       10.74999986,  9.98999988,  9.98999983, 11.49000039,  3.99000001,\n",
       "        8.24000119,  9.98999991,  3.99000004, 10.98999985, 10.50000017,\n",
       "        8.24000001,  9.98999974,  3.50000019,  9.9899999 ,  9.99000039,\n",
       "       11.99000014,  9.99000004,  9.99000013,  9.99000003,  8.98999978,\n",
       "       10.98999995, 12.04011777,  9.98999989,  3.99000001, 10.99000004,\n",
       "       10.75000017, 10.4900003 ,  8.49000084, 10.9899999 ,  8.99000006,\n",
       "       11.9899993 ,  9.99000022,  9.99000001,  3.98999953, 11.99000017,\n",
       "        9.98999987, 11.24000007,  9.98999999, 11.99000018,  9.99000003,\n",
       "        9.98999999,  9.98999945,  4.49999961, 10.4899999 , 10.99000007,\n",
       "       11.2399999 , 10.49999986, 11.99000039, 10.75000049, 11.48999989,\n",
       "       10.99000102, 11.24000057, 10.99000037, 11.74999971, 10.49000002,\n",
       "        8.24000007, 11.99000001, 10.24000025,  8.48999995,  2.99000002,\n",
       "       11.82999993,  9.98999991,  9.98999969, 10.9900002 , 10.98999991,\n",
       "        3.24000019,  3.98999984, 10.99000047,  9.99000003, 11.24000178,\n",
       "       10.99000008, 10.48999981, 11.23999993, 10.23999961, 11.49000025,\n",
       "       10.23999969, 11.74999995, 10.99000009,  9.99000007, 10.48999981,\n",
       "        3.75000051,  0.49999994,  7.98999976,  7.99000019, 10.48999997,\n",
       "        7.99000012, 11.98999997, 11.75000028,  4.00000005, 11.75000009,\n",
       "       11.48999997,  9.98999982,  3.98999998, 10.48999988, 11.49000012,\n",
       "        3.48999997, 10.23999998,  9.99000006,  9.73999995,  3.48999999,\n",
       "       11.23999967,  8.9899999 ,  9.99000013,  4.49999999, 11.99000041,\n",
       "        3.49000014,  7.99000011, 10.04805098,  3.99000014, 10.49999974,\n",
       "       10.98999998, 10.98999995,  9.98999984,  9.49000019, 11.99000014,\n",
       "       10.98999991, 10.49000033, 10.4900003 , 10.4899999 ,  9.99000007,\n",
       "        4.00000052,  9.98999992, 10.48999999, 10.22103134, 10.65666657,\n",
       "       11.98999969, 10.74999953, 11.4899999 ,  9.98999941, 10.48999983,\n",
       "        7.99000008,  9.93753468,  9.98999991, 11.75000029,  9.99000003,\n",
       "       11.49999956,  9.98999981, 10.75000001, 10.99000022,  9.9900004 ,\n",
       "       10.98999996,  9.99000008, 10.99000011,  9.98999989,  3.99000001,\n",
       "       11.98999997, 10.49000004, 10.99000003,  7.9899997 , 10.98999984,\n",
       "       10.99000004,  9.99000087, 10.49000001,  9.98999977,  4.50000013,\n",
       "        9.98999983,  9.99000019, 11.4900005 , 11.99000005,  3.9899999 ,\n",
       "       11.98999982, 10.48999994, 10.98999957, 10.99000016, 10.98999989,\n",
       "       11.24000009, 11.98999993, 10.98999995,  8.48999991,  9.99000025,\n",
       "        9.6150001 ,  9.99      ,  9.99000011,  3.00000024, 11.48999989,\n",
       "       11.98999999, 10.49000002,  9.99000011,  7.99000027,  9.99000018,\n",
       "       11.23999998, 11.98999996, 10.98999985,  3.98999982,  9.98999992,\n",
       "        9.49000008,  9.9899998 ,  3.99000015,  8.99000008, 11.49000022,\n",
       "        7.98999967,  9.75000021, 11.99000004, 10.23999998, 11.49000001,\n",
       "        9.98999984,  4.50000015,  9.99000015, 10.48999992, 10.48999968,\n",
       "       10.99000003, 10.99000014,  7.98999994,  3.99000024,  4.50000013,\n",
       "       11.99000015,  9.99000011, 10.98999999,  2.98999979, 11.9900001 ,\n",
       "       10.99000026, 11.48999979,  2.75000012,  3.79999987,  8.99000018,\n",
       "       10.99000026, 10.48999994, 10.75000018,  8.98999962,  3.98999957,\n",
       "       12.25000005,  9.98999986,  9.99000015, 10.98999994, 10.49000006,\n",
       "       11.48999993,  9.99000024, 10.74999999,  9.98999983,  9.99000008,\n",
       "       10.99000039, 11.49000032, 10.99000012, 11.98999989,  9.53999991,\n",
       "        9.99000017,  9.99000014,  2.99999996, 10.49999974,  9.99000001,\n",
       "       11.49000004, 11.99      , 10.4900004 , 11.99000025, 10.98999992,\n",
       "       10.99000015, 10.98999992,  9.99000008, 11.98999978, 10.48999994,\n",
       "       11.99      ,  9.98999999, 11.99000003,  9.98999986,  9.99000014,\n",
       "        9.82568266, 11.74999943,  8.99000013,  3.50000014,  3.99000001,\n",
       "       10.49000043, 10.4900002 , 10.74000017,  9.99000036, 10.99000012,\n",
       "        7.99000012,  9.99000008, 11.9899999 , 10.48999989, 10.23999957,\n",
       "        9.99000072,  4.50000004, 10.99000014, 10.74999987, 11.49000025,\n",
       "        3.98999968,  9.98999948, 11.99000008,  9.98999994, 10.65666657,\n",
       "        9.99000015, 10.49000011,  9.98999969, 10.98999996,  2.99000001,\n",
       "       10.99000009, 10.98999998,  9.4899997 ,  9.99000021,  9.75000004,\n",
       "        9.99000005,  9.99000018, 11.23999999, 11.74999998,  4.49999993,\n",
       "        8.24000007, 10.48999995,  7.98999981,  9.99000017, 10.74999972,\n",
       "        9.98999986,  3.98999989, 10.74999999, 10.98999964, 11.74999972,\n",
       "       10.95000186,  9.99000016, 10.98999988, 10.98999998, 10.49000004,\n",
       "        4.50000013,  4.50000001, 11.82999993, 10.99000005, 11.49000037,\n",
       "        3.98999999,  7.98999992, 10.99000006,  7.99000015, 11.74999993,\n",
       "       10.98999988,  9.9899999 ,  9.99000005,  9.99000011,  9.98999992,\n",
       "       10.98999993, 10.48999988,  9.99000026, 10.98999944,  9.99000015,\n",
       "        8.99000038, 10.49000004, 10.23999943,  8.98999999, 10.99000004,\n",
       "        9.99000012, 10.74999987, 10.7499999 ,  8.98999978, 10.98999971,\n",
       "       10.49000033, 11.98999993, 10.49000021,  9.99000069, 10.4899999 ,\n",
       "       11.98999993, 11.23999999,  2.99999993, 10.98999983,  4.00000001,\n",
       "        7.99000023, 10.49000003,  7.98999986, 10.48999983, 10.98999979,\n",
       "        3.99999992, 10.99000008,  9.2499999 ,  9.99000008,  9.73999995,\n",
       "       10.48999996,  2.99999996, 10.49999987, 10.98999977, 10.48999994,\n",
       "       11.75000011,  3.98999999, 10.49000038, 11.98999989, 11.98999979,\n",
       "        3.98999996,  7.98999983,  9.99000029,  9.98999992, 11.23999927,\n",
       "        9.12000013,  9.9900001 ,  3.99000001, 10.99000029,  9.98999921,\n",
       "       11.99000008,  8.99000001, 11.98999975,  8.98999986, 10.99000004,\n",
       "       11.23999971,  9.98999971,  2.99999996, 10.74999996, 10.99000032,\n",
       "       10.99000002, 11.49999979, 11.48999954, 10.98999978,  9.1376628 ,\n",
       "       10.99000009, 11.48999994, 10.98999981, 10.23999957, 10.98999824,\n",
       "        8.98999974, 11.23999996, 10.49000007,  8.98999982,  8.99000008,\n",
       "        2.49999982,  8.99000015, 10.59000004,  7.99000018, 10.7899998 ,\n",
       "        7.98999994,  9.98999984,  7.98999958,  7.98999997,  9.99000015,\n",
       "        9.99000011,  2.50000014,  9.99      ,  9.6150001 ,  9.98999995])"
      ]
     },
     "execution_count": 367,
     "metadata": {},
     "output_type": "execute_result"
    }
   ],
   "source": [
    "predictions"
   ]
  },
  {
   "cell_type": "markdown",
   "metadata": {},
   "source": [
    "# Model using only sub title has 22.51% Prediction accuracy"
   ]
  },
  {
   "cell_type": "code",
   "execution_count": 295,
   "metadata": {},
   "outputs": [],
   "source": [
    "# join two columns\n",
    "df['title_sub_title'] = df.product_title + df.product_subtitle"
   ]
  },
  {
   "cell_type": "code",
   "execution_count": 296,
   "metadata": {},
   "outputs": [],
   "source": [
    "# model using product title and subtitle\n",
    "bow_transformer = CountVectorizer(analyzer=process_text).fit(df.title_sub_title)\n",
    "descriptions_bow_product_title_sub_title = bow_transformer.transform(df.title_sub_title)\n"
   ]
  },
  {
   "cell_type": "code",
   "execution_count": 297,
   "metadata": {},
   "outputs": [
    {
     "data": {
      "text/plain": [
       "(880, 2827)"
      ]
     },
     "execution_count": 297,
     "metadata": {},
     "output_type": "execute_result"
    }
   ],
   "source": [
    "descriptions_bow_product_title_sub_title.shape\n"
   ]
  },
  {
   "cell_type": "code",
   "execution_count": 298,
   "metadata": {},
   "outputs": [],
   "source": [
    "tfidf_transformer = TfidfTransformer().fit(descriptions_bow_product_title_sub_title)\n"
   ]
  },
  {
   "cell_type": "code",
   "execution_count": 299,
   "metadata": {},
   "outputs": [],
   "source": [
    "product_title_sub_title_tfidf = tfidf_transformer.transform(descriptions_bow_product_title_sub_title)\n"
   ]
  },
  {
   "cell_type": "code",
   "execution_count": 300,
   "metadata": {},
   "outputs": [
    {
     "name": "stdout",
     "output_type": "stream",
     "text": [
      "  (0, 2824)\t0.21354222135895518\n",
      "  (0, 2822)\t0.2502771495559467\n",
      "  (0, 2802)\t0.239502613373805\n",
      "  (0, 2680)\t0.11820461983610635\n",
      "  (0, 2647)\t0.1532640577853859\n",
      "  (0, 2538)\t0.1616214373292556\n",
      "  (0, 2529)\t0.2502771495559467\n",
      "  (0, 2528)\t0.0694426588352389\n",
      "  (0, 2483)\t0.07278329449920411\n",
      "  (0, 2435)\t0.13073312535183462\n",
      "  (0, 2385)\t0.13450855657270633\n",
      "  (0, 2377)\t0.2502771495559467\n",
      "  (0, 2326)\t0.403230392870228\n",
      "  (0, 2325)\t0.1060778454850809\n",
      "  (0, 2101)\t0.1875818293441054\n",
      "  (0, 1967)\t0.1582651995285018\n",
      "  (0, 1828)\t0.15055543719507536\n",
      "  (0, 1625)\t0.20913090170838883\n",
      "  (0, 914)\t0.20913090170838883\n",
      "  (0, 851)\t0.19258297108722128\n",
      "  (0, 398)\t0.239502613373805\n",
      "  (0, 313)\t0.07657196347891977\n",
      "  (0, 139)\t0.17398995572080378\n",
      "  (0, 57)\t0.1773971152545132\n",
      "  (0, 5)\t0.3065281155707718\n"
     ]
    }
   ],
   "source": [
    "print(product_title_sub_title_tfidf[0])\n"
   ]
  },
  {
   "cell_type": "code",
   "execution_count": 301,
   "metadata": {},
   "outputs": [],
   "source": [
    "train_indices = df.loc[df.product_price.isnull()==False].index\n"
   ]
  },
  {
   "cell_type": "code",
   "execution_count": 302,
   "metadata": {},
   "outputs": [
    {
     "data": {
      "text/plain": [
       "<880x2827 sparse matrix of type '<class 'numpy.float64'>'\n",
       "\twith 18691 stored elements in Compressed Sparse Row format>"
      ]
     },
     "execution_count": 302,
     "metadata": {},
     "output_type": "execute_result"
    }
   ],
   "source": [
    "product_title_sub_title_tfidf"
   ]
  },
  {
   "cell_type": "code",
   "execution_count": 303,
   "metadata": {},
   "outputs": [],
   "source": [
    "y = df.loc[train_indices, 'product_price']"
   ]
  },
  {
   "cell_type": "code",
   "execution_count": 304,
   "metadata": {},
   "outputs": [],
   "source": [
    "X = product_title_sub_title_tfidf[list(train_indices)]"
   ]
  },
  {
   "cell_type": "code",
   "execution_count": 311,
   "metadata": {},
   "outputs": [
    {
     "data": {
      "text/plain": [
       "LinearRegression(copy_X=True, fit_intercept=True, n_jobs=None,\n",
       "         normalize=False)"
      ]
     },
     "execution_count": 311,
     "metadata": {},
     "output_type": "execute_result"
    }
   ],
   "source": [
    "lm = LinearRegression()\n",
    "lm.fit(X,y)"
   ]
  },
  {
   "cell_type": "code",
   "execution_count": 312,
   "metadata": {},
   "outputs": [],
   "source": [
    "predictions = lm.predict(X)\n"
   ]
  },
  {
   "cell_type": "code",
   "execution_count": 307,
   "metadata": {},
   "outputs": [
    {
     "data": {
      "text/plain": [
       "0.13034882585633567"
      ]
     },
     "execution_count": 307,
     "metadata": {},
     "output_type": "execute_result"
    }
   ],
   "source": [
    "np.sqrt(metrics.mean_squared_error(y, predictions))\n"
   ]
  },
  {
   "cell_type": "code",
   "execution_count": 368,
   "metadata": {},
   "outputs": [
    {
     "data": {
      "text/plain": [
       "array([10.4900001 ,  8.9900001 ,  8.98999992,  3.98999991, 10.99000028,\n",
       "       11.48999969,  7.00000016, 10.98999993,  8.74500015,  7.98999992,\n",
       "       10.74000017,  7.99000014,  3.99000024,  9.98999988,  7.98999993,\n",
       "        7.99000014,  7.99000019,  7.98999997,  7.98999996,  7.99000012,\n",
       "        9.99000016,  9.49000013,  3.50000039, 10.99000003, 10.48999949,\n",
       "        9.98999989,  2.9899999 ,  9.99000041, 10.73999997,  9.9900001 ,\n",
       "       10.98999978,  7.98999977,  9.99000006,  9.98999984,  8.99000016,\n",
       "        9.99000001,  7.99000007,  3.5       ,  7.98999997, 11.74999993,\n",
       "       10.73999997,  9.99000004,  9.77050136,  9.49000004, 11.24000012,\n",
       "        9.98999899,  7.99000019, 10.75000022,  9.98999996,  9.98999976,\n",
       "        9.99000024, 10.98999985,  3.99999992, 10.9899996 ,  9.98999992,\n",
       "       10.48999997,  9.98999987,  9.99000006,  9.98999987, 11.74999984,\n",
       "       11.48999976, 12.25000005,  9.99000012,  3.98999991,  3.99000004,\n",
       "       10.99000006, 11.99000041,  9.24000029, 10.98999955, 10.99000018,\n",
       "       11.24000038,  2.99999994,  9.99000034, 10.74999989,  8.98999992,\n",
       "       11.49999946, 11.49000028,  9.98999969, 10.9899999 , 11.99000001,\n",
       "        9.98999995, 10.74000003, 10.49000015, 10.99000018,  3.99000007,\n",
       "       11.99000115, 10.74000019,  9.98999977, 11.98999997, 11.24000001,\n",
       "        3.99000004,  3.99000019, 10.98999994,  9.2399999 ,  4.24999989,\n",
       "       10.23999994,  9.99000006,  9.98999992,  9.9899999 , 11.50000053,\n",
       "       11.24000014,  9.98999985, 11.75000019, 11.99000047,  9.16      ,\n",
       "        9.99000017, 10.99000026, 10.98999968,  8.99000014,  9.98999995,\n",
       "       10.48999997, 11.49000001, 11.98999982,  9.99000014,  9.9899998 ,\n",
       "       10.48999974,  9.99000006, 11.49000132, 10.99000009,  9.99000009,\n",
       "        9.98999965, 11.93406105, 10.4900001 ,  9.98999997, 10.61499988,\n",
       "       10.98999996, 11.23999993, 10.9900002 , 10.9899997 ,  9.98999993,\n",
       "       11.23999953, 10.74999974, 10.48999997, 10.23999997,  9.98999984,\n",
       "        9.99000007, 10.49000003,  9.16000149, 11.99000008,  4.50000028,\n",
       "       11.99000031,  3.99999988, 10.98999883,  9.99000003,  3.4899995 ,\n",
       "       11.98999979, 10.24000012, 11.49000002, 11.4900007 , 10.75000012,\n",
       "        4.50000012, 10.98999993, 11.24000015,  9.99000003,  9.11500016,\n",
       "       10.4899999 ,  8.24000079, 11.23999993, 11.24000006,  9.99000043,\n",
       "        9.99      ,  4.50000001, 10.99000008, 10.98999985,  3.50000008,\n",
       "        9.99000011,  8.98999989,  8.99000007,  9.98999976, 10.98999988,\n",
       "        3.98999998, 10.99000009,  9.98999991, 10.98999993, 11.94999869,\n",
       "        7.98999992, 10.98999991,  3.98999992, 11.98999993, 11.99      ,\n",
       "       11.24000101,  9.98999915, 10.48999981, 11.48999982,  8.24000007,\n",
       "       11.98999988, 11.99000001, 11.98999962, 10.9899997 ,  9.98999969,\n",
       "        7.99000007,  3.99000001, 10.98999995, 11.98999971, 11.99000001,\n",
       "       11.49000002,  3.99000001,  7.99000019,  9.98999997, 10.78999993,\n",
       "        9.99000015, 10.61499988,  9.99000015,  9.99000015,  9.99000016,\n",
       "        9.98999986,  7.9899981 ,  7.98999959,  9.99000046,  7.98999933,\n",
       "        9.99000024,  9.99000007,  7.98999998,  9.48999714,  9.16000149,\n",
       "        7.99000035,  7.99000011,  9.49000004,  9.99000136,  8.99000001,\n",
       "        8.98999978,  9.12000013,  8.99000008, 10.75000028,  8.98999998,\n",
       "        3.75      ,  9.98999978,  8.74500015, 10.99000012, 11.82999993,\n",
       "        3.50000017, 10.98999935,  8.99000011,  9.99000027,  4.50000004,\n",
       "        4.50000015, 10.49000019, 10.99000009,  9.99000001,  5.99999999,\n",
       "        9.99000017, 10.99000025, 10.49000023, 11.48999973, 11.4900001 ,\n",
       "       10.48999989, 10.49000044,  9.99000018, 10.49000009,  7.99000007,\n",
       "       10.99000004,  9.99000004, 10.99000004, 10.73999982,  9.98999998,\n",
       "       10.49000035, 10.48999985,  9.98999995, 10.49000006,  3.99000001,\n",
       "       10.99000053,  9.98999983,  9.98999976, 10.99000007, 10.2500002 ,\n",
       "        9.99      , 10.99000003,  3.99000003,  4.99000013,  9.98999994,\n",
       "       10.98999981,  9.98999989, 10.7899998 ,  9.98999994,  9.49000036,\n",
       "       10.9899996 ,  9.99000015,  8.99000016,  9.99000014,  8.99000017,\n",
       "        7.9899998 ,  7.98999987,  9.98999998,  9.98999985,  7.98999975,\n",
       "       10.98999994,  2.99000009,  7.99000014,  8.98999991,  7.98999994,\n",
       "        2.99999995,  3.99999985,  8.75000017,  7.98999986,  9.98999998,\n",
       "        9.98999978,  4.99000007,  9.99000013,  9.98999991,  9.99000006,\n",
       "       10.23999982,  8.98999991,  9.98999933,  7.98999943,  9.11500016,\n",
       "        9.49000009,  7.99      ,  9.9899998 ,  7.98999985,  9.99000003,\n",
       "       10.74999989, 10.74000003,  8.4900001 , 10.99000015, 10.98999985,\n",
       "        3.99000019,  4.00000002,  5.00000026,  7.98999975,  7.99000009,\n",
       "        9.99000015,  2.99000008,  7.98999993,  7.99000018,  9.98999883,\n",
       "        7.98999921,  3.00000001, 10.75      , 10.98999989,  9.98999991,\n",
       "       10.65666657,  9.99000029,  4.49999992,  7.99000062,  3.99000004,\n",
       "        4.99999991,  9.99000054, 10.99000012,  7.98999998,  7.98999995,\n",
       "        4.98999995,  7.99000001, 10.74000019,  7.99000014,  7.98999983,\n",
       "        9.98999999,  7.99000001,  5.00000016,  9.98999968, 10.98999991,\n",
       "        9.9899992 ,  9.98999883,  7.98999995,  7.98999991, 10.74999999,\n",
       "        9.99      ,  4.2499997 , 10.48999994,  9.98999973,  9.98999999,\n",
       "       10.98999997,  9.99000093, 10.75000017,  9.49000004,  9.49000004,\n",
       "        9.98999978,  2.99000003,  3.99000016,  9.99      ,  8.99000017,\n",
       "        9.98999982, 10.99000032,  3.99999983,  9.50000055,  9.98999995,\n",
       "        9.99000043, 10.73999982,  9.99000031,  3.98999949, 10.48999981,\n",
       "        9.49000009, 10.49000008,  9.99000003,  9.98999989,  9.98999982,\n",
       "        7.9899999 ,  7.99000024,  7.99000023,  3.99999988,  9.99000012,\n",
       "        9.98999977,  8.99000006,  6.99000001,  9.99000058, 10.50000008,\n",
       "       10.49000007,  8.4900001 ,  9.9899999 ,  7.99000005,  7.98999996,\n",
       "        9.98999995,  9.99000035,  9.98999975, 10.4900002 , 10.74999976,\n",
       "        4.99999979, 11.23999996, 10.98999989, 10.48999911, 10.98999974,\n",
       "        9.98999998, 10.49000024, 10.48999991,  9.99000016,  3.98999998,\n",
       "        9.50000028,  9.98999997,  9.98999966,  9.98999994, 10.48999983,\n",
       "        9.99000005,  8.9899998 , 10.74999971,  9.99000017,  3.99000021,\n",
       "       10.75      , 11.74999991, 11.99000017,  3.98999996,  9.98999984,\n",
       "       10.24000353, 11.98999993, 11.99000008,  9.99000013,  8.98999989,\n",
       "       11.24000025, 10.98999995, 10.23999644, 11.23999989, 11.23999973,\n",
       "        3.99000021, 11.99000018, 10.99000018, 11.99000006, 10.5000002 ,\n",
       "        9.99000005, 10.98999999, 11.99000008,  8.9899998 , 11.98999982,\n",
       "       11.99000017,  3.99000014, 10.99000001, 11.98999993, 11.49999983,\n",
       "        9.98999951,  9.74999992,  8.98999994,  9.49000004, 10.24000019,\n",
       "       10.74999986,  9.98999988,  9.98999983, 11.49000039,  3.99000001,\n",
       "        8.24000119,  9.98999991,  3.99000004, 10.98999985, 10.50000017,\n",
       "        8.24000001,  9.98999974,  3.50000019,  9.9899999 ,  9.99000039,\n",
       "       11.99000014,  9.99000004,  9.99000013,  9.99000003,  8.98999978,\n",
       "       10.98999995, 12.04011777,  9.98999989,  3.99000001, 10.99000004,\n",
       "       10.75000017, 10.4900003 ,  8.49000084, 10.9899999 ,  8.99000006,\n",
       "       11.9899993 ,  9.99000022,  9.99000001,  3.98999953, 11.99000017,\n",
       "        9.98999987, 11.24000007,  9.98999999, 11.99000018,  9.99000003,\n",
       "        9.98999999,  9.98999945,  4.49999961, 10.4899999 , 10.99000007,\n",
       "       11.2399999 , 10.49999986, 11.99000039, 10.75000049, 11.48999989,\n",
       "       10.99000102, 11.24000057, 10.99000037, 11.74999971, 10.49000002,\n",
       "        8.24000007, 11.99000001, 10.24000025,  8.48999995,  2.99000002,\n",
       "       11.82999993,  9.98999991,  9.98999969, 10.9900002 , 10.98999991,\n",
       "        3.24000019,  3.98999984, 10.99000047,  9.99000003, 11.24000178,\n",
       "       10.99000008, 10.48999981, 11.23999993, 10.23999961, 11.49000025,\n",
       "       10.23999969, 11.74999995, 10.99000009,  9.99000007, 10.48999981,\n",
       "        3.75000051,  0.49999994,  7.98999976,  7.99000019, 10.48999997,\n",
       "        7.99000012, 11.98999997, 11.75000028,  4.00000005, 11.75000009,\n",
       "       11.48999997,  9.98999982,  3.98999998, 10.48999988, 11.49000012,\n",
       "        3.48999997, 10.23999998,  9.99000006,  9.73999995,  3.48999999,\n",
       "       11.23999967,  8.9899999 ,  9.99000013,  4.49999999, 11.99000041,\n",
       "        3.49000014,  7.99000011, 10.04805098,  3.99000014, 10.49999974,\n",
       "       10.98999998, 10.98999995,  9.98999984,  9.49000019, 11.99000014,\n",
       "       10.98999991, 10.49000033, 10.4900003 , 10.4899999 ,  9.99000007,\n",
       "        4.00000052,  9.98999992, 10.48999999, 10.22103134, 10.65666657,\n",
       "       11.98999969, 10.74999953, 11.4899999 ,  9.98999941, 10.48999983,\n",
       "        7.99000008,  9.93753468,  9.98999991, 11.75000029,  9.99000003,\n",
       "       11.49999956,  9.98999981, 10.75000001, 10.99000022,  9.9900004 ,\n",
       "       10.98999996,  9.99000008, 10.99000011,  9.98999989,  3.99000001,\n",
       "       11.98999997, 10.49000004, 10.99000003,  7.9899997 , 10.98999984,\n",
       "       10.99000004,  9.99000087, 10.49000001,  9.98999977,  4.50000013,\n",
       "        9.98999983,  9.99000019, 11.4900005 , 11.99000005,  3.9899999 ,\n",
       "       11.98999982, 10.48999994, 10.98999957, 10.99000016, 10.98999989,\n",
       "       11.24000009, 11.98999993, 10.98999995,  8.48999991,  9.99000025,\n",
       "        9.6150001 ,  9.99      ,  9.99000011,  3.00000024, 11.48999989,\n",
       "       11.98999999, 10.49000002,  9.99000011,  7.99000027,  9.99000018,\n",
       "       11.23999998, 11.98999996, 10.98999985,  3.98999982,  9.98999992,\n",
       "        9.49000008,  9.9899998 ,  3.99000015,  8.99000008, 11.49000022,\n",
       "        7.98999967,  9.75000021, 11.99000004, 10.23999998, 11.49000001,\n",
       "        9.98999984,  4.50000015,  9.99000015, 10.48999992, 10.48999968,\n",
       "       10.99000003, 10.99000014,  7.98999994,  3.99000024,  4.50000013,\n",
       "       11.99000015,  9.99000011, 10.98999999,  2.98999979, 11.9900001 ,\n",
       "       10.99000026, 11.48999979,  2.75000012,  3.79999987,  8.99000018,\n",
       "       10.99000026, 10.48999994, 10.75000018,  8.98999962,  3.98999957,\n",
       "       12.25000005,  9.98999986,  9.99000015, 10.98999994, 10.49000006,\n",
       "       11.48999993,  9.99000024, 10.74999999,  9.98999983,  9.99000008,\n",
       "       10.99000039, 11.49000032, 10.99000012, 11.98999989,  9.53999991,\n",
       "        9.99000017,  9.99000014,  2.99999996, 10.49999974,  9.99000001,\n",
       "       11.49000004, 11.99      , 10.4900004 , 11.99000025, 10.98999992,\n",
       "       10.99000015, 10.98999992,  9.99000008, 11.98999978, 10.48999994,\n",
       "       11.99      ,  9.98999999, 11.99000003,  9.98999986,  9.99000014,\n",
       "        9.82568266, 11.74999943,  8.99000013,  3.50000014,  3.99000001,\n",
       "       10.49000043, 10.4900002 , 10.74000017,  9.99000036, 10.99000012,\n",
       "        7.99000012,  9.99000008, 11.9899999 , 10.48999989, 10.23999957,\n",
       "        9.99000072,  4.50000004, 10.99000014, 10.74999987, 11.49000025,\n",
       "        3.98999968,  9.98999948, 11.99000008,  9.98999994, 10.65666657,\n",
       "        9.99000015, 10.49000011,  9.98999969, 10.98999996,  2.99000001,\n",
       "       10.99000009, 10.98999998,  9.4899997 ,  9.99000021,  9.75000004,\n",
       "        9.99000005,  9.99000018, 11.23999999, 11.74999998,  4.49999993,\n",
       "        8.24000007, 10.48999995,  7.98999981,  9.99000017, 10.74999972,\n",
       "        9.98999986,  3.98999989, 10.74999999, 10.98999964, 11.74999972,\n",
       "       10.95000186,  9.99000016, 10.98999988, 10.98999998, 10.49000004,\n",
       "        4.50000013,  4.50000001, 11.82999993, 10.99000005, 11.49000037,\n",
       "        3.98999999,  7.98999992, 10.99000006,  7.99000015, 11.74999993,\n",
       "       10.98999988,  9.9899999 ,  9.99000005,  9.99000011,  9.98999992,\n",
       "       10.98999993, 10.48999988,  9.99000026, 10.98999944,  9.99000015,\n",
       "        8.99000038, 10.49000004, 10.23999943,  8.98999999, 10.99000004,\n",
       "        9.99000012, 10.74999987, 10.7499999 ,  8.98999978, 10.98999971,\n",
       "       10.49000033, 11.98999993, 10.49000021,  9.99000069, 10.4899999 ,\n",
       "       11.98999993, 11.23999999,  2.99999993, 10.98999983,  4.00000001,\n",
       "        7.99000023, 10.49000003,  7.98999986, 10.48999983, 10.98999979,\n",
       "        3.99999992, 10.99000008,  9.2499999 ,  9.99000008,  9.73999995,\n",
       "       10.48999996,  2.99999996, 10.49999987, 10.98999977, 10.48999994,\n",
       "       11.75000011,  3.98999999, 10.49000038, 11.98999989, 11.98999979,\n",
       "        3.98999996,  7.98999983,  9.99000029,  9.98999992, 11.23999927,\n",
       "        9.12000013,  9.9900001 ,  3.99000001, 10.99000029,  9.98999921,\n",
       "       11.99000008,  8.99000001, 11.98999975,  8.98999986, 10.99000004,\n",
       "       11.23999971,  9.98999971,  2.99999996, 10.74999996, 10.99000032,\n",
       "       10.99000002, 11.49999979, 11.48999954, 10.98999978,  9.1376628 ,\n",
       "       10.99000009, 11.48999994, 10.98999981, 10.23999957, 10.98999824,\n",
       "        8.98999974, 11.23999996, 10.49000007,  8.98999982,  8.99000008,\n",
       "        2.49999982,  8.99000015, 10.59000004,  7.99000018, 10.7899998 ,\n",
       "        7.98999994,  9.98999984,  7.98999958,  7.98999997,  9.99000015,\n",
       "        9.99000011,  2.50000014,  9.99      ,  9.6150001 ,  9.98999995])"
      ]
     },
     "execution_count": 368,
     "metadata": {},
     "output_type": "execute_result"
    }
   ],
   "source": [
    "predictions"
   ]
  },
  {
   "cell_type": "markdown",
   "metadata": {},
   "source": [
    "# Product price using product title and subtitle has 13.03% prediction accuracy."
   ]
  },
  {
   "cell_type": "markdown",
   "metadata": {},
   "source": [
    "## Based on the 3 models product price is best predicted by product title"
   ]
  }
 ],
 "metadata": {
  "kernelspec": {
   "display_name": "Python 3",
   "language": "python",
   "name": "python3"
  },
  "language_info": {
   "codemirror_mode": {
    "name": "ipython",
    "version": 3
   },
   "file_extension": ".py",
   "mimetype": "text/x-python",
   "name": "python",
   "nbconvert_exporter": "python",
   "pygments_lexer": "ipython3",
   "version": "3.7.1"
  }
 },
 "nbformat": 4,
 "nbformat_minor": 2
}
